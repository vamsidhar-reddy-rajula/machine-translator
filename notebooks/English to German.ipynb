{
 "cells": [
  {
   "cell_type": "markdown",
   "id": "06020cf1-b2c8-497c-97d5-7ec2a69e80e0",
   "metadata": {},
   "source": [
    "https://www.analyticsvidhya.com/blog/2019/01/neural-machine-translation-keras/"
   ]
  },
  {
   "cell_type": "markdown",
   "id": "cab7c996-e489-4845-bbe5-e4f06f2de746",
   "metadata": {},
   "source": [
    "# Sequence to Sequence - sq2sq"
   ]
  },
  {
   "cell_type": "markdown",
   "id": "925fa1c0-9524-4369-8c32-edb36187b2ab",
   "metadata": {},
   "source": [
    "## Imports"
   ]
  },
  {
   "cell_type": "code",
   "execution_count": 1,
   "id": "c2ca0c46-9633-4a17-86fb-797fb01014e7",
   "metadata": {},
   "outputs": [],
   "source": [
    "import os\n",
    "\n",
    "import pandas as pd\n",
    "import numpy as np\n",
    "\n",
    "import nltk\n",
    "from nltk.corpus import comtrans\n",
    "from sklearn.model_selection import train_test_split\n",
    "\n",
    "from string import punctuation\n",
    "from tensorflow.keras.preprocessing.text import Tokenizer\n",
    "import tensorflow as tf\n",
    "import tensorflow.keras as keras\n",
    "from tensorflow.keras import layers,models\n",
    "\n",
    "from tensorflow.keras.callbacks import EarlyStopping\n",
    "from tensorflow.keras import optimizers\n",
    "\n",
    "import datetime"
   ]
  },
  {
   "cell_type": "code",
   "execution_count": 2,
   "id": "84d60b3b-23ae-4604-a561-2d7f2df10651",
   "metadata": {},
   "outputs": [
    {
     "data": {
      "text/plain": [
       "[PhysicalDevice(name='/physical_device:GPU:0', device_type='GPU')]"
      ]
     },
     "execution_count": 2,
     "metadata": {},
     "output_type": "execute_result"
    }
   ],
   "source": [
    "tf.config.list_physical_devices('GPU')"
   ]
  },
  {
   "cell_type": "code",
   "execution_count": 3,
   "id": "d0cef5d0-1478-46b6-86fc-01c9bcc46631",
   "metadata": {},
   "outputs": [],
   "source": [
    "# tf.debugging.set_log_device_placement(False)"
   ]
  },
  {
   "cell_type": "code",
   "execution_count": 4,
   "id": "295b0b4f-ceb5-444f-abb6-39523e110a9b",
   "metadata": {},
   "outputs": [
    {
     "data": {
      "text/html": [
       "<div>\n",
       "<style scoped>\n",
       "    .dataframe tbody tr th:only-of-type {\n",
       "        vertical-align: middle;\n",
       "    }\n",
       "\n",
       "    .dataframe tbody tr th {\n",
       "        vertical-align: top;\n",
       "    }\n",
       "\n",
       "    .dataframe thead th {\n",
       "        text-align: right;\n",
       "    }\n",
       "</style>\n",
       "<table border=\"1\" class=\"dataframe\">\n",
       "  <thead>\n",
       "    <tr style=\"text-align: right;\">\n",
       "      <th></th>\n",
       "      <th>english</th>\n",
       "      <th>german</th>\n",
       "    </tr>\n",
       "  </thead>\n",
       "  <tbody>\n",
       "    <tr>\n",
       "      <th>0</th>\n",
       "      <td>Hi.</td>\n",
       "      <td>Hallo!</td>\n",
       "    </tr>\n",
       "    <tr>\n",
       "      <th>1</th>\n",
       "      <td>Hi.</td>\n",
       "      <td>Grüß Gott!</td>\n",
       "    </tr>\n",
       "    <tr>\n",
       "      <th>2</th>\n",
       "      <td>Run!</td>\n",
       "      <td>Lauf!</td>\n",
       "    </tr>\n",
       "    <tr>\n",
       "      <th>3</th>\n",
       "      <td>Wow!</td>\n",
       "      <td>Potzdonner!</td>\n",
       "    </tr>\n",
       "    <tr>\n",
       "      <th>4</th>\n",
       "      <td>Wow!</td>\n",
       "      <td>Donnerwetter!</td>\n",
       "    </tr>\n",
       "  </tbody>\n",
       "</table>\n",
       "</div>"
      ],
      "text/plain": [
       "  english         german\n",
       "0     Hi.         Hallo!\n",
       "1     Hi.     Grüß Gott!\n",
       "2    Run!          Lauf!\n",
       "3    Wow!    Potzdonner!\n",
       "4    Wow!  Donnerwetter!"
      ]
     },
     "execution_count": 4,
     "metadata": {},
     "output_type": "execute_result"
    }
   ],
   "source": [
    "df =pd.read_csv(r'D:/Datasets/deu.txt',sep='\\t',header=None,names=['english','german'])\n",
    "df.head()"
   ]
  },
  {
   "cell_type": "code",
   "execution_count": 5,
   "id": "71a22fbe-0192-41c2-993f-829e64eff29e",
   "metadata": {},
   "outputs": [
    {
     "data": {
      "text/plain": [
       "english    0\n",
       "german     0\n",
       "dtype: int64"
      ]
     },
     "execution_count": 5,
     "metadata": {},
     "output_type": "execute_result"
    }
   ],
   "source": [
    "df.isna().sum()"
   ]
  },
  {
   "cell_type": "code",
   "execution_count": 6,
   "id": "7d7dca9a-74c0-47ba-9142-822d2cb20578",
   "metadata": {},
   "outputs": [
    {
     "data": {
      "text/plain": [
       "(153868, 2)"
      ]
     },
     "execution_count": 6,
     "metadata": {},
     "output_type": "execute_result"
    }
   ],
   "source": [
    "df.shape"
   ]
  },
  {
   "cell_type": "code",
   "execution_count": null,
   "id": "3a7d7c83-2321-4aa6-8399-aa4747ceb8d8",
   "metadata": {},
   "outputs": [],
   "source": []
  },
  {
   "cell_type": "markdown",
   "id": "28390cda-0e24-4615-a2ce-662b6f3204d7",
   "metadata": {},
   "source": [
    "## Data Preprocessing"
   ]
  },
  {
   "cell_type": "code",
   "execution_count": 7,
   "id": "d43da826-7420-4b45-91df-fe2eb1c04c05",
   "metadata": {},
   "outputs": [],
   "source": [
    "df.english = df.english.apply(lambda x: \"\".join([c for c in x if c not in punctuation]))\n",
    "df.german = df.german.apply(lambda x: \"\".join([c for c in x if c not in punctuation]))"
   ]
  },
  {
   "cell_type": "code",
   "execution_count": 8,
   "id": "961fd84e-87e7-463a-a8d5-dcfa36d3afa2",
   "metadata": {},
   "outputs": [],
   "source": [
    "df.english = df.english.str.strip()\n",
    "df.german = df.german.str.strip()"
   ]
  },
  {
   "cell_type": "code",
   "execution_count": 9,
   "id": "45a5e5d9-8df8-4cf8-a72b-8f925da4a28d",
   "metadata": {},
   "outputs": [],
   "source": [
    "df.english = df.english.apply(lambda x: \" \".join([word for word in x.split() if len(word)>1]))\n",
    "df.german = df.german.apply(lambda x: \" \".join([word for word in x.split() if len(word)>1])) \n",
    "\n",
    "#losing meaning by removing quotations\n",
    "#deal with quotations later"
   ]
  },
  {
   "cell_type": "code",
   "execution_count": 10,
   "id": "21ef7f37-cfc7-470f-92e1-c8225d61f511",
   "metadata": {},
   "outputs": [],
   "source": [
    "df.english = df.english.str.lower()\n",
    "df.german = df.german.str.lower()"
   ]
  },
  {
   "cell_type": "code",
   "execution_count": 11,
   "id": "27d1bbe2-7888-4b12-8002-1f0f0950e934",
   "metadata": {},
   "outputs": [],
   "source": [
    "num_sentences = 150000"
   ]
  },
  {
   "cell_type": "code",
   "execution_count": 12,
   "id": "51febce7-ea16-4f91-b2a1-451544c35792",
   "metadata": {},
   "outputs": [],
   "source": [
    "df_train,df_test = train_test_split(df.sample(num_sentences,random_state=123),train_size=0.75,random_state=123)"
   ]
  },
  {
   "cell_type": "code",
   "execution_count": 13,
   "id": "d3d0e670-7b4e-4ea5-bf6e-48af6d5efaa3",
   "metadata": {},
   "outputs": [
    {
     "data": {
      "text/html": [
       "<div>\n",
       "<style scoped>\n",
       "    .dataframe tbody tr th:only-of-type {\n",
       "        vertical-align: middle;\n",
       "    }\n",
       "\n",
       "    .dataframe tbody tr th {\n",
       "        vertical-align: top;\n",
       "    }\n",
       "\n",
       "    .dataframe thead th {\n",
       "        text-align: right;\n",
       "    }\n",
       "</style>\n",
       "<table border=\"1\" class=\"dataframe\">\n",
       "  <thead>\n",
       "    <tr style=\"text-align: right;\">\n",
       "      <th></th>\n",
       "      <th>english</th>\n",
       "      <th>german</th>\n",
       "    </tr>\n",
       "  </thead>\n",
       "  <tbody>\n",
       "    <tr>\n",
       "      <th>98876</th>\n",
       "      <td>the baby is looking for its mother</td>\n",
       "      <td>das baby sucht seine mutter</td>\n",
       "    </tr>\n",
       "    <tr>\n",
       "      <th>132402</th>\n",
       "      <td>ill write to you or ill phone you next week</td>\n",
       "      <td>ich werde dir nächste woche schreiben oder dic...</td>\n",
       "    </tr>\n",
       "    <tr>\n",
       "      <th>141745</th>\n",
       "      <td>she wanted piece of cake but there was none left</td>\n",
       "      <td>sie wollte ein stück kuchen aber es war keiner...</td>\n",
       "    </tr>\n",
       "    <tr>\n",
       "      <th>15495</th>\n",
       "      <td>do owe you money</td>\n",
       "      <td>schulde ich ihnen geld</td>\n",
       "    </tr>\n",
       "    <tr>\n",
       "      <th>136409</th>\n",
       "      <td>the doctor administered medicine to the patient</td>\n",
       "      <td>der arzt verabreichte dem patienten medizin</td>\n",
       "    </tr>\n",
       "  </tbody>\n",
       "</table>\n",
       "</div>"
      ],
      "text/plain": [
       "                                                 english  \\\n",
       "98876                 the baby is looking for its mother   \n",
       "132402       ill write to you or ill phone you next week   \n",
       "141745  she wanted piece of cake but there was none left   \n",
       "15495                                   do owe you money   \n",
       "136409   the doctor administered medicine to the patient   \n",
       "\n",
       "                                                   german  \n",
       "98876                         das baby sucht seine mutter  \n",
       "132402  ich werde dir nächste woche schreiben oder dic...  \n",
       "141745  sie wollte ein stück kuchen aber es war keiner...  \n",
       "15495                              schulde ich ihnen geld  \n",
       "136409        der arzt verabreichte dem patienten medizin  "
      ]
     },
     "execution_count": 13,
     "metadata": {},
     "output_type": "execute_result"
    }
   ],
   "source": [
    "df_train.head()"
   ]
  },
  {
   "cell_type": "code",
   "execution_count": null,
   "id": "c614afc0-0284-44d5-b0f7-7b23f3c072aa",
   "metadata": {},
   "outputs": [],
   "source": []
  },
  {
   "cell_type": "code",
   "execution_count": 14,
   "id": "11c4daa9-ff49-4787-a50c-58f4c1719b7b",
   "metadata": {},
   "outputs": [],
   "source": [
    "df[\"eng_len\"] = df.english.apply(lambda x: len([word for word in x.split()]))\n",
    "df[\"german_len\"] = df.german.apply(lambda x: len([word for word in x.split()]))"
   ]
  },
  {
   "cell_type": "code",
   "execution_count": 15,
   "id": "44c3adb6-9d8d-48aa-9c7c-24de3e641f36",
   "metadata": {},
   "outputs": [
    {
     "data": {
      "text/plain": [
       "<AxesSubplot:>"
      ]
     },
     "execution_count": 15,
     "metadata": {},
     "output_type": "execute_result"
    },
    {
     "data": {
      "image/png": "[encoded data removed]",
      "text/plain": [
       "<Figure size 432x288 with 1 Axes>"
      ]
     },
     "metadata": {
      "needs_background": "light"
     },
     "output_type": "display_data"
    }
   ],
   "source": [
    "df.eng_len.hist()"
   ]
  },
  {
   "cell_type": "code",
   "execution_count": 16,
   "id": "4ea5fa7e-df8d-4d95-84f2-27b11210926f",
   "metadata": {},
   "outputs": [
    {
     "data": {
      "text/plain": [
       "<AxesSubplot:>"
      ]
     },
     "execution_count": 16,
     "metadata": {},
     "output_type": "execute_result"
    },
    {
     "data": {
      "image/png": "[encoded data removed]",
      "text/plain": [
       "<Figure size 432x288 with 1 Axes>"
      ]
     },
     "metadata": {
      "needs_background": "light"
     },
     "output_type": "display_data"
    }
   ],
   "source": [
    "df.german_len.hist()"
   ]
  },
  {
   "cell_type": "code",
   "execution_count": 17,
   "id": "b0ef1f92-f000-43b2-8580-57692ad45be0",
   "metadata": {},
   "outputs": [],
   "source": [
    "from nltk.corpus import stopwords"
   ]
  },
  {
   "cell_type": "code",
   "execution_count": 18,
   "id": "a6a1c2a6-0f7f-4cd8-a6e0-e152452889c7",
   "metadata": {},
   "outputs": [],
   "source": [
    "eng_stopwords = stopwords.words('english')\n",
    "german_stopwords = stopwords.words('german')"
   ]
  },
  {
   "cell_type": "code",
   "execution_count": 19,
   "id": "104170d8-81c5-40cd-9a5e-53f70ecc7577",
   "metadata": {},
   "outputs": [],
   "source": [
    "# df_train.english = df_train.english.apply(lambda x: \" \".join([word for word in x.split() if word not in eng_stopwords]))\n",
    "# df_train.german = df_train.german.apply(lambda x: \" \".join([word for word in x.split() if word not in german_stopwords]))"
   ]
  },
  {
   "cell_type": "code",
   "execution_count": 20,
   "id": "bb1b34cf-db4b-43dd-a6f1-f65698669458",
   "metadata": {},
   "outputs": [],
   "source": [
    "# df_test.english = df_test.english.apply(lambda x: \" \".join([word for word in x.split() if word not in eng_stopwords]))\n",
    "# df_test.german = df_test.german.apply(lambda x: \" \".join([word for word in x.split() if word not in german_stopwords]))"
   ]
  },
  {
   "cell_type": "code",
   "execution_count": 21,
   "id": "03ffa8ed-a9c2-41e9-b644-bcc20b14ee24",
   "metadata": {},
   "outputs": [
    {
     "data": {
      "text/html": [
       "<div>\n",
       "<style scoped>\n",
       "    .dataframe tbody tr th:only-of-type {\n",
       "        vertical-align: middle;\n",
       "    }\n",
       "\n",
       "    .dataframe tbody tr th {\n",
       "        vertical-align: top;\n",
       "    }\n",
       "\n",
       "    .dataframe thead th {\n",
       "        text-align: right;\n",
       "    }\n",
       "</style>\n",
       "<table border=\"1\" class=\"dataframe\">\n",
       "  <thead>\n",
       "    <tr style=\"text-align: right;\">\n",
       "      <th></th>\n",
       "      <th>english</th>\n",
       "      <th>german</th>\n",
       "    </tr>\n",
       "  </thead>\n",
       "  <tbody>\n",
       "    <tr>\n",
       "      <th>98876</th>\n",
       "      <td>the baby is looking for its mother</td>\n",
       "      <td>das baby sucht seine mutter</td>\n",
       "    </tr>\n",
       "    <tr>\n",
       "      <th>132402</th>\n",
       "      <td>ill write to you or ill phone you next week</td>\n",
       "      <td>ich werde dir nächste woche schreiben oder dic...</td>\n",
       "    </tr>\n",
       "    <tr>\n",
       "      <th>141745</th>\n",
       "      <td>she wanted piece of cake but there was none left</td>\n",
       "      <td>sie wollte ein stück kuchen aber es war keiner...</td>\n",
       "    </tr>\n",
       "    <tr>\n",
       "      <th>15495</th>\n",
       "      <td>do owe you money</td>\n",
       "      <td>schulde ich ihnen geld</td>\n",
       "    </tr>\n",
       "    <tr>\n",
       "      <th>136409</th>\n",
       "      <td>the doctor administered medicine to the patient</td>\n",
       "      <td>der arzt verabreichte dem patienten medizin</td>\n",
       "    </tr>\n",
       "  </tbody>\n",
       "</table>\n",
       "</div>"
      ],
      "text/plain": [
       "                                                 english  \\\n",
       "98876                 the baby is looking for its mother   \n",
       "132402       ill write to you or ill phone you next week   \n",
       "141745  she wanted piece of cake but there was none left   \n",
       "15495                                   do owe you money   \n",
       "136409   the doctor administered medicine to the patient   \n",
       "\n",
       "                                                   german  \n",
       "98876                         das baby sucht seine mutter  \n",
       "132402  ich werde dir nächste woche schreiben oder dic...  \n",
       "141745  sie wollte ein stück kuchen aber es war keiner...  \n",
       "15495                              schulde ich ihnen geld  \n",
       "136409        der arzt verabreichte dem patienten medizin  "
      ]
     },
     "execution_count": 21,
     "metadata": {},
     "output_type": "execute_result"
    }
   ],
   "source": [
    "df_train.iloc[:5,:]"
   ]
  },
  {
   "cell_type": "code",
   "execution_count": null,
   "id": "eaf7525c-cd1c-44c8-a4b6-26e2239de29f",
   "metadata": {},
   "outputs": [],
   "source": []
  },
  {
   "cell_type": "markdown",
   "id": "71502cdb-d719-443e-975d-e96a426feb09",
   "metadata": {
    "tags": []
   },
   "source": [
    "# Tokenize words"
   ]
  },
  {
   "cell_type": "code",
   "execution_count": 27,
   "id": "3c403126-bda4-4ba1-939a-b29d1154c298",
   "metadata": {},
   "outputs": [],
   "source": [
    "#length of sentences to train for\n",
    "maxlen=10\n",
    "\n",
    "#number of words in vocabulary\n",
    "# num_words=9000"
   ]
  },
  {
   "cell_type": "code",
   "execution_count": 28,
   "id": "4554af56-5e57-40b0-862d-612868895ea9",
   "metadata": {},
   "outputs": [],
   "source": [
    "# from sklearn.model_selection import KFold"
   ]
  },
  {
   "cell_type": "code",
   "execution_count": 29,
   "id": "19a595d8-0b32-4fc3-afdb-b0eae4faafc3",
   "metadata": {},
   "outputs": [],
   "source": [
    "english_sentences_train = df_train['english']\n",
    "english_sentences_test = df_test['english']"
   ]
  },
  {
   "cell_type": "code",
   "execution_count": 30,
   "id": "42e04240-70fb-4b12-90ab-a69f03a65bbc",
   "metadata": {},
   "outputs": [],
   "source": [
    "tokenizer = Tokenizer(lower=True)\n",
    "tokenizer.fit_on_texts(english_sentences_train)"
   ]
  },
  {
   "cell_type": "code",
   "execution_count": 31,
   "id": "722b1b31-4125-4670-9d32-c186482bac8a",
   "metadata": {},
   "outputs": [
    {
     "data": {
      "text/plain": [
       "13806"
      ]
     },
     "execution_count": 31,
     "metadata": {},
     "output_type": "execute_result"
    }
   ],
   "source": [
    "eng_vocab_size = len(tokenizer.word_index)+1\n",
    "eng_vocab_size"
   ]
  },
  {
   "cell_type": "code",
   "execution_count": 32,
   "id": "fc136974-f88f-429e-b8f4-3634f627354b",
   "metadata": {},
   "outputs": [],
   "source": [
    "train_sequences = tokenizer.texts_to_sequences(english_sentences_train)\n",
    "test_sequences = tokenizer.texts_to_sequences(english_sentences_test)"
   ]
  },
  {
   "cell_type": "code",
   "execution_count": 33,
   "id": "26a4f829-aba8-4c8c-9deb-921265fb6902",
   "metadata": {},
   "outputs": [
    {
     "name": "stdout",
     "output_type": "stream",
     "text": [
      "[   6  281 1738    0    0    0    0    0    0    0]\n"
     ]
    }
   ],
   "source": [
    "from keras.preprocessing.sequence import pad_sequences\n",
    "\n",
    "X_train = pad_sequences(train_sequences, padding='post', maxlen=maxlen)\n",
    "X_test = pad_sequences(test_sequences, padding='post', maxlen=maxlen)\n",
    "\n",
    "print(X_train[200, :]) #index corresponds to index from word-count"
   ]
  },
  {
   "cell_type": "code",
   "execution_count": null,
   "id": "20d6184e-bf22-4abf-b849-11075be85072",
   "metadata": {},
   "outputs": [],
   "source": []
  },
  {
   "cell_type": "code",
   "execution_count": null,
   "id": "7d641ecb-dfcd-49ff-b039-2e1a20b7bebd",
   "metadata": {},
   "outputs": [],
   "source": []
  },
  {
   "cell_type": "code",
   "execution_count": null,
   "id": "e5bb7ba8-f83d-4175-90b5-52980f9f8cb0",
   "metadata": {},
   "outputs": [],
   "source": []
  },
  {
   "cell_type": "code",
   "execution_count": null,
   "id": "96adc4fd-a221-4224-9a37-9b47d6316567",
   "metadata": {},
   "outputs": [],
   "source": []
  },
  {
   "cell_type": "markdown",
   "id": "ee2af501-af3c-4d74-adab-951740364d7c",
   "metadata": {},
   "source": [
    "# Output - German words"
   ]
  },
  {
   "cell_type": "code",
   "execution_count": 34,
   "id": "d720f946-ca93-4989-acbd-cae7e706c4ac",
   "metadata": {},
   "outputs": [],
   "source": [
    "# from sklearn.feature_extraction.text import CountVectorizer"
   ]
  },
  {
   "cell_type": "code",
   "execution_count": 35,
   "id": "590135e1-0db3-421b-9cdb-19b09d121134",
   "metadata": {},
   "outputs": [],
   "source": [
    "german_tokenizer = Tokenizer(lower=True)"
   ]
  },
  {
   "cell_type": "code",
   "execution_count": 36,
   "id": "618a0231-2d3c-4a01-9086-cb178af1d7b3",
   "metadata": {},
   "outputs": [],
   "source": [
    "german_sentences_train = df_train[\"german\"]\n",
    "german_sentences_test = df_test[\"german\"]"
   ]
  },
  {
   "cell_type": "code",
   "execution_count": 37,
   "id": "8f6ecbb9-3cd3-4911-8175-5477ece5273f",
   "metadata": {},
   "outputs": [],
   "source": [
    "german_tokenizer.fit_on_texts(german_sentences_train)"
   ]
  },
  {
   "cell_type": "code",
   "execution_count": 38,
   "id": "ed8aae3b-4ba4-44ef-af8c-6aaeddaf7184",
   "metadata": {},
   "outputs": [],
   "source": [
    "german_text_train = german_tokenizer.texts_to_sequences(german_sentences_train)\n",
    "german_text_test = german_tokenizer.texts_to_sequences(german_sentences_test)"
   ]
  },
  {
   "cell_type": "code",
   "execution_count": 39,
   "id": "f71169d2-b9fa-4fa2-b302-2406ae1e39bc",
   "metadata": {},
   "outputs": [
    {
     "name": "stdout",
     "output_type": "stream",
     "text": [
      "[   7  724 1184   74  192    0    0    0    0    0]\n"
     ]
    }
   ],
   "source": [
    "# maxlen = 40 #length of sentence\n",
    "\n",
    "y_train = pad_sequences(german_text_train, padding='post', maxlen=maxlen)\n",
    "y_test = pad_sequences(german_text_test, padding='post', maxlen=maxlen)\n",
    "\n",
    "print(y_train[0, :]) #index corresponds to index from word-count - using SparseCategoricalCrossentropy"
   ]
  },
  {
   "cell_type": "code",
   "execution_count": 40,
   "id": "8b27af23-bb47-4445-8e64-5a7ffcf773b4",
   "metadata": {},
   "outputs": [],
   "source": [
    "y_test = np.array(y_test)\n",
    "y_train = np.array(y_train)"
   ]
  },
  {
   "cell_type": "code",
   "execution_count": 41,
   "id": "97551d17-3501-483f-94b4-0f0c4c2bca8d",
   "metadata": {},
   "outputs": [],
   "source": [
    "german_vocab_size = len(german_tokenizer.word_counts)+1"
   ]
  },
  {
   "cell_type": "code",
   "execution_count": 42,
   "id": "94dd38aa-0bea-4609-b7a1-1c72734ae746",
   "metadata": {},
   "outputs": [
    {
     "data": {
      "text/plain": [
       "27872"
      ]
     },
     "execution_count": 42,
     "metadata": {},
     "output_type": "execute_result"
    }
   ],
   "source": [
    "german_vocab_size"
   ]
  },
  {
   "cell_type": "code",
   "execution_count": 43,
   "id": "0391b94c-5ccc-47b5-91e8-4950d36fe5a3",
   "metadata": {},
   "outputs": [],
   "source": [
    "# y_train = y_train.reshape(*y_train.shape,1)\n",
    "# y_test = y_test.reshape(*y_test.shape,1)"
   ]
  },
  {
   "cell_type": "code",
   "execution_count": 44,
   "id": "00355e07-d279-46a2-a160-e541cf5e9317",
   "metadata": {},
   "outputs": [
    {
     "data": {
      "text/plain": [
       "(112500, 10)"
      ]
     },
     "execution_count": 44,
     "metadata": {},
     "output_type": "execute_result"
    }
   ],
   "source": [
    "y_train.shape"
   ]
  },
  {
   "cell_type": "code",
   "execution_count": null,
   "id": "fcab87b3-45e5-47b1-9ee1-6850a549489d",
   "metadata": {},
   "outputs": [],
   "source": []
  },
  {
   "cell_type": "code",
   "execution_count": null,
   "id": "f0863ac2-49e6-464b-adc2-04426d789e47",
   "metadata": {},
   "outputs": [],
   "source": []
  },
  {
   "cell_type": "markdown",
   "id": "023f074d-fbe0-41fa-83ba-064d835c66bb",
   "metadata": {},
   "source": [
    "# Neural network"
   ]
  },
  {
   "cell_type": "code",
   "execution_count": 45,
   "id": "d8b7ea1c-ce05-4f0d-a4ca-3a52613c0ce9",
   "metadata": {},
   "outputs": [
    {
     "data": {
      "text/plain": [
       "(112500, 10)"
      ]
     },
     "execution_count": 45,
     "metadata": {},
     "output_type": "execute_result"
    }
   ],
   "source": [
    "X_train.shape"
   ]
  },
  {
   "cell_type": "code",
   "execution_count": 46,
   "id": "4762a4aa-edef-4854-9209-d8c9314a1b88",
   "metadata": {},
   "outputs": [
    {
     "data": {
      "text/plain": [
       "(37500, 10)"
      ]
     },
     "execution_count": 46,
     "metadata": {},
     "output_type": "execute_result"
    }
   ],
   "source": [
    "X_test.shape"
   ]
  },
  {
   "cell_type": "code",
   "execution_count": 47,
   "id": "18db5d3f-0971-451f-846d-0241cd4c51c7",
   "metadata": {},
   "outputs": [],
   "source": [
    "#Change learning rate on palteaued training\n",
    "from tensorflow.keras.callbacks import ReduceLROnPlateau\n",
    "reduce_lr = ReduceLROnPlateau(\n",
    "    monitor='val_loss', \n",
    "    factor=0.9,   \n",
    "    patience=1, \n",
    "    min_lr=0.0005,\n",
    "    verbose=2\n",
    ")"
   ]
  },
  {
   "cell_type": "code",
   "execution_count": 65,
   "id": "23a5888a-959e-4f21-aa2b-b634aa356965",
   "metadata": {},
   "outputs": [],
   "source": [
    "earlystop_callback = EarlyStopping(\n",
    "  monitor='val_loss', min_delta=0.01,\n",
    "  patience=3)"
   ]
  },
  {
   "cell_type": "code",
   "execution_count": 49,
   "id": "5bffb9fe-3a85-4b65-8687-395775dc38c2",
   "metadata": {},
   "outputs": [],
   "source": [
    "import matplotlib.pyplot as plt\n",
    "def plot_loss(history,model_save_location):\n",
    "    training_loss = history['loss']\n",
    "    training_accuracy = history['accuracy']\n",
    "    val_loss = history['val_loss']\n",
    "    val_accuracy = history['val_accuracy']\n",
    "    epochs = range(1,len(training_loss)+1)\n",
    "    \n",
    "    plt.plot(epochs,training_loss,'r-*',label='Training Loss')\n",
    "#     plt.plot(epochs,training_accuracy,'r-*',label='Training Loss')\n",
    "    plt.plot(epochs,val_loss,'b-o',label='Validation Loss')\n",
    "#     plt.plot(epochs,val_accuracy,'r-*',label='Training Loss')\n",
    "    plt.savefig(f'{model_save_location}loss.jpeg')\n",
    "    plt.legend()"
   ]
  },
  {
   "cell_type": "code",
   "execution_count": 50,
   "id": "edb477e8-961d-427e-a9c5-c2f259a4b503",
   "metadata": {},
   "outputs": [],
   "source": [
    "import matplotlib.pyplot as plt\n",
    "def plot_accuracy(history,model_save_location):\n",
    "    training_loss = history['loss']\n",
    "    training_accuracy = history['accuracy']\n",
    "    val_loss = history['val_loss']\n",
    "    val_accuracy = history['val_accuracy']\n",
    "    epochs = range(1,len(training_loss)+1)\n",
    "    \n",
    "#     plt.plot(epochs,training_loss,'r-*',label='Training Loss')\n",
    "    plt.plot(epochs,training_accuracy,'r-*',label='Training Accuracy')\n",
    "#     plt.plot(epochs,val_loss,'b-0',label='Validation Loss')\n",
    "    plt.plot(epochs,val_accuracy,'b-o',label='Validation Accuracy')\n",
    "    plt.savefig(f'{model_save_location}accuracy.jpeg')\n",
    "    plt.legend()"
   ]
  },
  {
   "cell_type": "markdown",
   "id": "6be63e2d-1bb8-4836-95d2-24fc9735a1c3",
   "metadata": {},
   "source": [
    "# Experiments"
   ]
  },
  {
   "cell_type": "markdown",
   "id": "561ff800-6016-49fe-b58c-ae7614d6d99b",
   "metadata": {},
   "source": [
    "* Target performancec metric: accuracy>=98%"
   ]
  },
  {
   "cell_type": "markdown",
   "id": "b0719403-3701-41e6-9ab4-4f965ab73fe6",
   "metadata": {
    "tags": []
   },
   "source": [
    "### base model 2: ../data/base_model_2/"
   ]
  },
  {
   "cell_type": "markdown",
   "id": "ce010341-4525-487f-8db7-50c9a4061ec3",
   "metadata": {},
   "source": [
    "* embedding_dim = 200  #will this number capture the vocabulary in e,bedding space?\n",
    "* n_lstm_units= 200 #will this number be enough to capture the complexity of language that we are trying to encode?\n",
    "* batch_size= 520 #mini batch gradient descent\n",
    "\n",
    "* Embedding layer - 10X200\n",
    "* LSTM (Bidirectional) - 1X400\n",
    "* repeat - 10X400\n",
    "* LSTM (Bidirectional) - 10X400\n",
    "* Dense - 10Xfrench_vocab_size\n",
    "\n",
    "* early_stopping = 0.01 loss (patience =2)\n",
    "\n",
    "* Total params: 9,840,198\n",
    "\n",
    "* RMSprop\n",
    "\n",
    "\n",
    "* Result discussion: validation plateaued while the training loss is decreasing consistently == moredata or reduce the complecity of the problem"
   ]
  },
  {
   "cell_type": "markdown",
   "id": "015659d4-9db6-4f89-a96f-bbc2329823c1",
   "metadata": {},
   "source": [
    "### base model 3: ../data/base_model_3/"
   ]
  },
  {
   "cell_type": "markdown",
   "id": "0850bf6f-6bfc-4c06-a120-c89679f24120",
   "metadata": {},
   "source": [
    "#changes from previous experiment - increased data by 25%\n",
    "\n",
    "* embedding_dim = 200  \n",
    "* n_lstm_units= 200\n",
    "* batch_size= 520 \n",
    "\n",
    "* Embedding layer - 10X200\n",
    "* LSTM (Bidirectional) - 1X400\n",
    "* repeat - 10X400\n",
    "* LSTM (Bidirectional) - 10X400\n",
    "* Dense - 10Xfrench_vocab_size\n",
    "\n",
    "* early_stopping = 0.01 loss (patience =2)\n",
    "\n",
    "* Total params: 9,840,198\n",
    "\n",
    "* RMSprop\n",
    "\n",
    "\n",
    "* Result discussion: validation plateaued while the training loss is decreasing consistently == moredata or reduce the complecity of the problem"
   ]
  },
  {
   "cell_type": "code",
   "execution_count": null,
   "id": "2031cb2b-39ec-416c-b2dd-3823efffcdca",
   "metadata": {},
   "outputs": [],
   "source": []
  },
  {
   "cell_type": "markdown",
   "id": "6d93cd9e-ce10-4582-b98e-b6fd957e51df",
   "metadata": {},
   "source": [
    "### base model 4: ../data/base_model_4/"
   ]
  },
  {
   "cell_type": "markdown",
   "id": "b54fb664-b7fc-48bd-b940-97aa6eef0ea1",
   "metadata": {},
   "source": [
    "#changes from previous experiment - decreased data back by 25% and increased the complexity of model to get better accuracy quickly. Current 20 epoch accuracy is 55%\n",
    "\n",
    "* embedding_dim = 200  \n",
    "* n_lstm_units= 520 #cha6nged this\n",
    "* batch_size= 520 \n",
    "\n",
    "* Embedding layer - 10X200\n",
    "* LSTM (Bidirectional) - 1X400\n",
    "* repeat - 10X400\n",
    "* LSTM (Bidirectional) - 10X400\n",
    "* Dense - 10Xfrench_vocab_size\n",
    "\n",
    "* early_stopping = 0.01 loss (patience =2)\n",
    "\n",
    "* Total params: 9,840,198\n",
    "\n",
    "* RMSprop\n",
    "\n",
    "\n",
    "* Result discussion: validation accuracy reached 0.5 quickly compared to previous experiment BUT did not solve the overfitting problem yet"
   ]
  },
  {
   "cell_type": "markdown",
   "id": "4bd1770b-7220-4e90-befc-615d6d11e3ca",
   "metadata": {},
   "source": [
    "### base model 5: ../data/base_model_5/"
   ]
  },
  {
   "cell_type": "markdown",
   "id": "3f8d2ecd-71b8-4344-b6a4-026fde9ce681",
   "metadata": {},
   "source": [
    "#changes from previous experiment : increased the modelcomplexity even more \n",
    "\n",
    "* embedding_dim = 520  #changed this\n",
    "* n_lstm_units= 200\n",
    "* batch_size= 520 \n",
    "\n",
    "* Embedding layer - 10X200\n",
    "* LSTM (Bidirectional) - 1X400\n",
    "* repeat - 10X400\n",
    "* LSTM (Bidirectional) - 10X400\n",
    "* Dense - 10Xfrench_vocab_size\n",
    "\n",
    "* early_stopping = 0.01 loss (patience =2)\n",
    "\n",
    "* Total params: 9,840,198\n",
    "\n",
    "* RMSprop\n",
    "\n",
    "\n",
    "* Result discussion: validation plateaued while the training loss is decreasing consistently"
   ]
  },
  {
   "cell_type": "code",
   "execution_count": 137,
   "id": "5cc79ed5-ebc3-4922-946f-6537e95d54e8",
   "metadata": {},
   "outputs": [
    {
     "data": {
      "image/png": "[encoded data removed]",
      "text/plain": [
       "<Figure size 432x288 with 1 Axes>"
      ]
     },
     "metadata": {
      "needs_background": "light"
     },
     "output_type": "display_data"
    }
   ],
   "source": [
    "plot_accuracy(history.history,model_save_location)"
   ]
  },
  {
   "cell_type": "code",
   "execution_count": 138,
   "id": "33511b1a-f2ca-41fa-a9bb-f4f66255f8b3",
   "metadata": {},
   "outputs": [
    {
     "data": {
      "image/png": "[encoded data removed]",
      "text/plain": [
       "<Figure size 432x288 with 1 Axes>"
      ]
     },
     "metadata": {
      "needs_background": "light"
     },
     "output_type": "display_data"
    }
   ],
   "source": [
    "plot_loss(history.history,model_save_location)"
   ]
  },
  {
   "cell_type": "code",
   "execution_count": null,
   "id": "4f560ed5-5180-45ca-8f68-321f2347fda7",
   "metadata": {},
   "outputs": [],
   "source": []
  },
  {
   "cell_type": "markdown",
   "id": "a453a5d8-87da-4d36-b1dc-74aad778967a",
   "metadata": {},
   "source": [
    "### base model 6: ../data/base_model_6/"
   ]
  },
  {
   "cell_type": "markdown",
   "id": "3dd8b5fb-5a90-4d44-a020-eb5b739353bb",
   "metadata": {},
   "source": [
    "#changes from previous experiment - Increased the complexity of model\n",
    "\n",
    "* embedding_dim = 512  #changed this\n",
    "* n_lstm_units= 512\n",
    "* batch_size= 320 \n",
    "\n",
    "* Embedding layer - 10X200\n",
    "* LSTM (Bidirectional) - 1X400\n",
    "* repeat - 10X400\n",
    "* LSTM (Bidirectional) - 10X400\n",
    "* Dense - 10Xfrench_vocab_size\n",
    "\n",
    "* early_stopping = 0.01 loss (patience =2)\n",
    "\n",
    "* Total params: 9,840,198\n",
    "\n",
    "* RMSprop\n",
    "\n",
    "\n",
    "* Result discussion: Validation accuracy plateaued at around 50% . overfitting"
   ]
  },
  {
   "cell_type": "code",
   "execution_count": null,
   "id": "0cfd261d-92fb-48e3-9061-ba270bfe63d8",
   "metadata": {},
   "outputs": [
    {
     "data": {
      "image/png": "[encoded data removed]",
      "text/plain": [
       "<Figure size 432x288 with 1 Axes>"
      ]
     },
     "metadata": {
      "needs_background": "light"
     },
     "output_type": "display_data"
    }
   ],
   "source": [
    "plot_accuracy(history.history,model_save_location)"
   ]
  },
  {
   "cell_type": "code",
   "execution_count": 148,
   "id": "f414b84a-863e-4970-8101-aeba4c56cd7f",
   "metadata": {},
   "outputs": [
    {
     "data": {
      "image/png": "[encoded data removed]",
      "text/plain": [
       "<Figure size 432x288 with 1 Axes>"
      ]
     },
     "metadata": {
      "needs_background": "light"
     },
     "output_type": "display_data"
    }
   ],
   "source": [
    "plot_loss(history.history,model_save_location)"
   ]
  },
  {
   "cell_type": "code",
   "execution_count": null,
   "id": "38fa7707-792b-4cb8-bfc8-65b3e7c67211",
   "metadata": {},
   "outputs": [],
   "source": []
  },
  {
   "cell_type": "markdown",
   "id": "e0ba36e6-cf15-4217-ab61-73b48bb365bd",
   "metadata": {},
   "source": [
    "Addressing overfitting problem:\n",
    "\n",
    "* Model learnt everything it can from data and started to overfit on noise \n",
    "\n",
    "    * :To prevent overfitting, the best solution is to use more complete training data. The dataset should cover the full range of inputs that the model is expected to handle. Additional data may only be useful if it covers new and interesting cases.\"\n",
    "\n",
    "    * A model trained on more complete data will naturally generalize better. When that is no longer possible, the next best solution is to use techniques like regularization. These place constraints on the quantity and type of information your model can store. If a network can only afford to memorize a small number of patterns, the optimization process will force it to focus on the most prominent patterns, which have a better chance of generalizing well."
   ]
  },
  {
   "cell_type": "code",
   "execution_count": null,
   "id": "e4bd73d0-d329-4309-91c6-2f64c8bf2f07",
   "metadata": {},
   "outputs": [],
   "source": []
  },
  {
   "cell_type": "markdown",
   "id": "85c2a310-0392-43d3-a987-c2c8596bdebb",
   "metadata": {},
   "source": []
  },
  {
   "cell_type": "markdown",
   "id": "36383237-f482-469d-b7a7-e058ee8f9c1a",
   "metadata": {},
   "source": [
    "### base model 7: ../data/base_model_7/"
   ]
  },
  {
   "cell_type": "markdown",
   "id": "fd1f7875-908c-40b8-9804-1381729f4c40",
   "metadata": {},
   "source": [
    "#changes from previous experiment - Addressing overfitting problem - Improved quality of data by removing stopwords threby only retaining useful information and throwing away frrquently occuring words with less value\n",
    "\n",
    "* embedding_dim = 200\n",
    "* n_lstm_units= 320\n",
    "* batch_size= 320\n",
    "\n",
    "* Embedding layer - 10X200\n",
    "* LSTM (Bidirectional) - 1X400\n",
    "* repeat - 10X400\n",
    "* LSTM (Bidirectional) - 10X400\n",
    "* Dense - 10Xfrench_vocab_size\n",
    "\n",
    "* early_stopping = 0.01 loss (patience =2)\n",
    "\n",
    "* Total params: 9,840,198\n",
    "\n",
    "* RMSprop\n",
    "\n",
    "\n",
    "* Result discussion: Validation accuracy plateaued at around 50% . overfitting"
   ]
  },
  {
   "cell_type": "code",
   "execution_count": null,
   "id": "44d791da-817b-4fd1-9637-3238eb78e604",
   "metadata": {},
   "outputs": [],
   "source": []
  },
  {
   "cell_type": "code",
   "execution_count": null,
   "id": "2e8cb59b-8e07-4ab9-84ec-afbedd065f4c",
   "metadata": {},
   "outputs": [],
   "source": []
  },
  {
   "cell_type": "code",
   "execution_count": null,
   "id": "71e58b73-ca50-48ce-9ed1-c834cd7e569d",
   "metadata": {},
   "outputs": [],
   "source": []
  },
  {
   "cell_type": "code",
   "execution_count": null,
   "id": "c14595c4-8321-4a81-bfe4-854de553d8ff",
   "metadata": {},
   "outputs": [],
   "source": []
  },
  {
   "cell_type": "markdown",
   "id": "c4bcfa3a-cbc1-454c-a1eb-a9733c7340db",
   "metadata": {},
   "source": [
    "## Baseline model"
   ]
  },
  {
   "cell_type": "code",
   "execution_count": 66,
   "id": "8435630f-2b57-433c-8f4f-ba6fa7b6cdc4",
   "metadata": {},
   "outputs": [],
   "source": [
    "model_save_location = \"../models/base_model_8/\"+datetime.datetime.now().strftime(\"%Y%m%d-%H%M%S\")+\"-\""
   ]
  },
  {
   "cell_type": "code",
   "execution_count": 67,
   "id": "001c5095-8780-4837-8981-6e231c3d7063",
   "metadata": {},
   "outputs": [],
   "source": [
    "from tensorflow.keras.callbacks import CSVLogger\n",
    "csv_logger = CSVLogger(f'{model_save_location}history.log')"
   ]
  },
  {
   "cell_type": "code",
   "execution_count": 68,
   "id": "7908b5d8-cb3b-4ae0-923b-4888b48733d9",
   "metadata": {},
   "outputs": [],
   "source": [
    "# Save the weights using the `checkpoint_path` format\n",
    "# model.save_weights(checkpoint_path.format(epoch=0))\n",
    "import datetime\n",
    "# Include the epoch in the file name (uses `str.format`)\n",
    "checkpoint_path = f\"{model_save_location}\"+\"cp-{epoch:04d}.ckpt\"\n",
    "checkpoint_dir = os.path.dirname(checkpoint_path)\n",
    "\n",
    "# Create a callback that saves the model's weights every 5 epochs\n",
    "cp_callback = tf.keras.callbacks.ModelCheckpoint(\n",
    "    filepath=checkpoint_path, \n",
    "    verbose=1, \n",
    "    save_weights_only=True,\n",
    "#     save_freq=5*batch_size\n",
    ")"
   ]
  },
  {
   "cell_type": "code",
   "execution_count": 69,
   "id": "bce371d1-2285-40c6-b376-441111a6e25d",
   "metadata": {},
   "outputs": [],
   "source": [
    "#maxlen (12) length of sentence\n",
    "# 6000 word vocabulary in both languages\n",
    "# 25k training examples and 8k test examples\n",
    "\n",
    "embedding_dim = 400  #will this number capture the vocabulary in e,bedding space?\n",
    "n_lstm_units= 320 #will this number be enough to capture the complexity of language that we are trying to encode?\n",
    "batch_size= 320 #mini batch gradient descent\n",
    "\n",
    "model = keras.Sequential()\n",
    "\n",
    "model.add(layers.Input(shape=(maxlen,))) #input will be a 10 dimension vector [each dim is index of word]\n",
    "\n",
    "\n",
    "###############  Encoder\n",
    "# Input shape\n",
    "\n",
    "# 2D tensor with shape: (batch_size, input_length).\n",
    "\n",
    "# Output shape\n",
    "\n",
    "# 3D tensor with shape: (batch_size, input_length, output_dim).\n",
    "\n",
    "#input_dim : size of vocabulary\n",
    "#output_dim: dimension of the dense embedding\n",
    "#input_length: length of input sequences\n",
    "model.add(layers.Embedding(input_dim=eng_vocab_size,  # converts sentence with 40 length to 40X200 (200 dims per word)\n",
    "                           output_dim = embedding_dim,\n",
    "#                            weights = [embedding_matrix],\n",
    "                             input_length=maxlen,\n",
    "                             name='embed_english_words',\n",
    "                            mask_zero=True\n",
    ")) \n",
    "\n",
    "\n",
    "#Input shape of LSTM : (batch_size, time_steps, seq_len)\n",
    "# output shape of LSTM : (batch_size,num_units) if return_sequences=False\n",
    "# output shape of LSTM : (batch-size, time_steps, num_units) if return_sequences=True\n",
    "model.add(\n",
    "#     layers.Bidirectional(\n",
    "    layers.LSTM(n_lstm_units,\n",
    "                return_sequences=False,\n",
    "                activation=\"tanh\"\n",
    "               )\n",
    "#     )\n",
    "         )\n",
    "\n",
    "\n",
    "###############  Decoder\n",
    "\n",
    "model.add(layers.RepeatVector(maxlen))\n",
    "\n",
    "\n",
    "model.add(\n",
    "#     layers.Bidirectional(\n",
    "    layers.LSTM(n_lstm_units,\n",
    "                return_sequences=True,\n",
    "                activation=\"tanh\"\n",
    "               )\n",
    "#     )\n",
    "         )\n",
    "\n",
    "# TimeDistributed applies the same weights to each of the timestamps\n",
    "#input_shape for Timedistributed: (batch_size,time_steps,dims)\n",
    "#output_shape for Timedistributed: (batch_size,time_steps,output_of_wrapped_layer)\n",
    "\n",
    "#Dense layer\n",
    "# Input shape\n",
    "\n",
    "# N-D tensor with shape: (batch_size, ..., input_dim). The most common situation would be a 2D input with shape (batch_size, input_dim).\n",
    "\n",
    "# Output shape\n",
    "\n",
    "# N-D tensor with shape: (batch_size, ..., units). For instance, for a 2D input with shape (batch_size, input_dim), the output would have shape (batch_size, units).\n",
    "\n",
    "# model_3.add(layers.TimeDistributed(layers.Dense(num_words,activation='softmax'))) #probability for frnech word in each timestep\n",
    "model.add(layers.Dense(german_vocab_size,activation='softmax')) #probability for frnech word in each timestep"
   ]
  },
  {
   "cell_type": "code",
   "execution_count": 70,
   "id": "66cdc63e-6d38-48ad-a3ba-f3b5b1a22bd8",
   "metadata": {},
   "outputs": [
    {
     "name": "stdout",
     "output_type": "stream",
     "text": [
      "Model: \"sequential_1\"\n",
      "_________________________________________________________________\n",
      "Layer (type)                 Output Shape              Param #   \n",
      "=================================================================\n",
      "embed_english_words (Embeddi (None, 10, 400)           5522400   \n",
      "_________________________________________________________________\n",
      "lstm_2 (LSTM)                (None, 320)               922880    \n",
      "_________________________________________________________________\n",
      "repeat_vector_1 (RepeatVecto (None, 10, 320)           0         \n",
      "_________________________________________________________________\n",
      "lstm_3 (LSTM)                (None, 10, 320)           820480    \n",
      "_________________________________________________________________\n",
      "dense_1 (Dense)              (None, 10, 27872)         8946912   \n",
      "=================================================================\n",
      "Total params: 16,212,672\n",
      "Trainable params: 16,212,672\n",
      "Non-trainable params: 0\n",
      "_________________________________________________________________\n"
     ]
    }
   ],
   "source": [
    "model.summary()"
   ]
  },
  {
   "cell_type": "code",
   "execution_count": 71,
   "id": "736adeb2-4c26-47d3-bb1f-987c002d06b8",
   "metadata": {},
   "outputs": [],
   "source": [
    "rms = optimizers.Adam(learning_rate=0.001)\n",
    "model.compile(loss=tf.losses.sparse_categorical_crossentropy,\n",
    "                  optimizer=rms,\n",
    "                  metrics=['accuracy'])"
   ]
  },
  {
   "cell_type": "code",
   "execution_count": 79,
   "id": "80b97c95-7960-46d3-8adb-fb0e76cfe29c",
   "metadata": {},
   "outputs": [
    {
     "name": "stdout",
     "output_type": "stream",
     "text": [
      "Epoch 1/25\n",
      "352/352 [==============================] - 66s 187ms/step - loss: 1.7683 - accuracy: 0.6194 - val_loss: 2.3930 - val_accuracy: 0.5659\n",
      "\n",
      "Epoch 00001: saving model to ../models/base_model_8\\20210824-053923-cp-0001.ckpt\n",
      "Epoch 2/25\n",
      "352/352 [==============================] - 67s 190ms/step - loss: 1.6928 - accuracy: 0.6291 - val_loss: 2.3734 - val_accuracy: 0.5693\n",
      "\n",
      "Epoch 00002: saving model to ../models/base_model_8\\20210824-053923-cp-0002.ckpt\n",
      "Epoch 3/25\n",
      "352/352 [==============================] - 87s 248ms/step - loss: 1.6209 - accuracy: 0.6396 - val_loss: 2.3604 - val_accuracy: 0.5717\n",
      "\n",
      "Epoch 00003: saving model to ../models/base_model_8\\20210824-053923-cp-0003.ckpt\n",
      "Epoch 4/25\n",
      "352/352 [==============================] - 121s 346ms/step - loss: 1.5554 - accuracy: 0.6498 - val_loss: 2.3517 - val_accuracy: 0.5722\n",
      "\n",
      "Epoch 00004: saving model to ../models/base_model_8\\20210824-053923-cp-0004.ckpt\n",
      "Epoch 5/25\n",
      "352/352 [==============================] - 137s 389ms/step - loss: 1.4960 - accuracy: 0.6587 - val_loss: 2.3465 - val_accuracy: 0.5749\n",
      "\n",
      "Epoch 00005: saving model to ../models/base_model_8\\20210824-053923-cp-0005.ckpt\n",
      "Epoch 6/25\n",
      "352/352 [==============================] - 161s 459ms/step - loss: 1.4383 - accuracy: 0.6679 - val_loss: 2.3465 - val_accuracy: 0.5761\n",
      "\n",
      "Epoch 00006: saving model to ../models/base_model_8\\20210824-053923-cp-0006.ckpt\n",
      "\n",
      "Epoch 00006: ReduceLROnPlateau reducing learning rate to 0.0009000000427477062.\n",
      "Epoch 7/25\n",
      "352/352 [==============================] - 141s 401ms/step - loss: 1.3758 - accuracy: 0.6791 - val_loss: 2.3448 - val_accuracy: 0.5796\n",
      "\n",
      "Epoch 00007: saving model to ../models/base_model_8\\20210824-053923-cp-0007.ckpt\n",
      "Epoch 8/25\n",
      "352/352 [==============================] - 127s 362ms/step - loss: 1.3283 - accuracy: 0.6870 - val_loss: 2.3508 - val_accuracy: 0.5792\n",
      "\n",
      "Epoch 00008: saving model to ../models/base_model_8\\20210824-053923-cp-0008.ckpt\n",
      "\n",
      "Epoch 00008: ReduceLROnPlateau reducing learning rate to 0.0008100000384729356.\n"
     ]
    }
   ],
   "source": [
    "# Train the model with the new callback\n",
    "history = model.fit(X_train, \n",
    "          y_train,\n",
    "          epochs=25, \n",
    "          batch_size=batch_size, \n",
    "          callbacks=[\n",
    "              cp_callback,\n",
    "#                      LearningRateReducerCb(),\n",
    "                     earlystop_callback,\n",
    "                     reduce_lr,\n",
    "              csv_logger\n",
    "#                      tensorboard_callback\n",
    "                    ],\n",
    "          validation_data=(X_test, y_test),\n",
    "          verbose=1)"
   ]
  },
  {
   "cell_type": "code",
   "execution_count": 80,
   "id": "05c82021-f4bb-43da-92fc-7570523bed35",
   "metadata": {},
   "outputs": [
    {
     "name": "stderr",
     "output_type": "stream",
     "text": [
      "WARNING:absl:Found untraced functions such as lstm_cell_2_layer_call_and_return_conditional_losses, lstm_cell_2_layer_call_fn, lstm_cell_3_layer_call_and_return_conditional_losses, lstm_cell_3_layer_call_fn, lstm_cell_2_layer_call_fn while saving (showing 5 of 10). These functions will not be directly callable after loading.\n"
     ]
    },
    {
     "name": "stdout",
     "output_type": "stream",
     "text": [
      "INFO:tensorflow:Assets written to: ../models/base_model_8/20210824-053923-model\\assets\n"
     ]
    },
    {
     "name": "stderr",
     "output_type": "stream",
     "text": [
      "INFO:tensorflow:Assets written to: ../models/base_model_8/20210824-053923-model\\assets\n"
     ]
    }
   ],
   "source": [
    "model.save(f'{model_save_location}model')\n",
    "#increasing batch size resulted in faster results"
   ]
  },
  {
   "cell_type": "code",
   "execution_count": 81,
   "id": "8f97b359-41d1-4b33-ab88-9b31b0621889",
   "metadata": {},
   "outputs": [
    {
     "data": {
      "text/plain": [
       "['../models/base_model_8/20210824-053923-english_tokenizer']"
      ]
     },
     "execution_count": 81,
     "metadata": {},
     "output_type": "execute_result"
    }
   ],
   "source": [
    "import joblib\n",
    "joblib.dump(tokenizer,f'{model_save_location}english_tokenizer')"
   ]
  },
  {
   "cell_type": "code",
   "execution_count": 82,
   "id": "b9a9f828-6fc4-4a8a-823b-f204e0e209aa",
   "metadata": {},
   "outputs": [],
   "source": [
    "inv_map = {v: k for k, v in german_tokenizer.word_index.items()}"
   ]
  },
  {
   "cell_type": "code",
   "execution_count": 83,
   "id": "8555ab9e-38da-4ab7-b130-3e4db01c3a3e",
   "metadata": {},
   "outputs": [
    {
     "data": {
      "text/plain": [
       "['../models/base_model_8/20210824-053923-inverse_map']"
      ]
     },
     "execution_count": 83,
     "metadata": {},
     "output_type": "execute_result"
    }
   ],
   "source": [
    "joblib.dump(inv_map,f'{model_save_location}inverse_map')"
   ]
  },
  {
   "cell_type": "code",
   "execution_count": 84,
   "id": "adf05cc2-26a0-4765-aeb6-f0d4a2ad8128",
   "metadata": {},
   "outputs": [
    {
     "data": {
      "image/png": "[encoded data removed]",
      "text/plain": [
       "<Figure size 432x288 with 1 Axes>"
      ]
     },
     "metadata": {
      "needs_background": "light"
     },
     "output_type": "display_data"
    }
   ],
   "source": [
    "plot_accuracy(history.history,model_save_location)"
   ]
  },
  {
   "cell_type": "code",
   "execution_count": 85,
   "id": "9be8b54b-6356-4899-b8e0-a6d76667b72d",
   "metadata": {},
   "outputs": [
    {
     "data": {
      "image/png": "[encoded data removed]",
      "text/plain": [
       "<Figure size 432x288 with 1 Axes>"
      ]
     },
     "metadata": {
      "needs_background": "light"
     },
     "output_type": "display_data"
    }
   ],
   "source": [
    "plot_loss(history.history,model_save_location)"
   ]
  },
  {
   "cell_type": "code",
   "execution_count": null,
   "id": "21898f0c-0163-4c5b-a6bf-31f0a67222c4",
   "metadata": {},
   "outputs": [],
   "source": []
  },
  {
   "cell_type": "code",
   "execution_count": 86,
   "id": "70e0e953-f4b2-4e28-a962-35613cdb712c",
   "metadata": {},
   "outputs": [
    {
     "name": "stdout",
     "output_type": "stream",
     "text": [
      "tom und maria john\n",
      "wer macht sonst sonst\n",
      "ich begreife nicht die nicht nicht nicht nicht nicht\n",
      "ich muss morgen früh früh\n",
      "tom und maria sind sich jahr jahr krankenhaus\n"
     ]
    }
   ],
   "source": [
    "logits = model.predict(X_test[:5])\n",
    "for logit in logits:\n",
    "    print(' '.join([inv_map[prediction] for prediction in np.argmax(logit, 1) if prediction!=0] ))\n",
    "#     print([str(prediction) for prediction in np.argmax(logit, 1)])"
   ]
  },
  {
   "cell_type": "code",
   "execution_count": 87,
   "id": "a5013488-2b25-466b-9662-6903c63e6da2",
   "metadata": {},
   "outputs": [
    {
     "name": "stdout",
     "output_type": "stream",
     "text": [
      "tom und mary adoptierten john\n",
      "wer benutzt es sonst noch\n",
      "ich habe herausgefunden warum die maschine nicht ging\n",
      "ich muss morgen ganz zeitig aufstehen\n",
      "tom und maria wollen nächstes jahr kommen\n"
     ]
    }
   ],
   "source": [
    "actual = y_test[:5]\n",
    "for sen in actual:\n",
    "    print(' '.join([inv_map[word] for word in sen if word!=0] ))"
   ]
  },
  {
   "cell_type": "code",
   "execution_count": null,
   "id": "ebf841d1-e370-4182-a68a-b4ea02ac3cd0",
   "metadata": {},
   "outputs": [],
   "source": []
  },
  {
   "cell_type": "code",
   "execution_count": null,
   "id": "32548600-e99b-4fe5-9d6b-d5934463565f",
   "metadata": {},
   "outputs": [],
   "source": [
    "english-dutch"
   ]
  },
  {
   "cell_type": "code",
   "execution_count": null,
   "id": "f1cc61de-327b-4d5c-b6c9-8d167a2537cb",
   "metadata": {},
   "outputs": [],
   "source": []
  },
  {
   "cell_type": "code",
   "execution_count": null,
   "id": "9a51db0c-d376-4fca-a6de-a0b532ff5ace",
   "metadata": {},
   "outputs": [],
   "source": []
  },
  {
   "cell_type": "code",
   "execution_count": null,
   "id": "22ad5fac-987c-47c4-b61a-630e68cf45c4",
   "metadata": {},
   "outputs": [],
   "source": []
  }
 ],
 "metadata": {
  "kernelspec": {
   "display_name": "Default environment",
   "language": "python",
   "name": "default"
  },
  "language_info": {
   "codemirror_mode": {
    "name": "ipython",
    "version": 3
   },
   "file_extension": ".py",
   "mimetype": "text/x-python",
   "name": "python",
   "nbconvert_exporter": "python",
   "pygments_lexer": "ipython3",
   "version": "3.9.6"
  }
 },
 "nbformat": 4,
 "nbformat_minor": 5
}
